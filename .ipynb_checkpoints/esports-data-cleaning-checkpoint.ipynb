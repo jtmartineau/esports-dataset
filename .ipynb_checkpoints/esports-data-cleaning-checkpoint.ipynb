{
 "cells": [
  {
   "cell_type": "code",
   "execution_count": 3,
   "id": "f37d024c-c16a-48af-9cba-efa29bc31966",
   "metadata": {
    "tags": []
   },
   "outputs": [],
   "source": [
    "import pandas as pd\n",
    "import numpy as np\n",
    "from dateutil.parser import parse"
   ]
  },
  {
   "cell_type": "code",
   "execution_count": null,
   "id": "78abed6b-9e95-4ce2-b515-cf13e5d317e9",
   "metadata": {
    "tags": []
   },
   "outputs": [],
   "source": [
    "df_raw = pd.read_csv('./esports-starcraft2-data.csv')"
   ]
  },
  {
   "cell_type": "code",
   "execution_count": null,
   "id": "277d43fd-374a-4004-b5ad-0727f8384753",
   "metadata": {
    "tags": []
   },
   "outputs": [],
   "source": [
    "df_raw.columns"
   ]
  },
  {
   "cell_type": "code",
   "execution_count": null,
   "id": "7afc979a-545d-4e30-8be7-61351bc5233b",
   "metadata": {
    "tags": []
   },
   "outputs": [],
   "source": [
    "df_cleaned = df_raw.drop(['replay_id', 'scraped_from_site', \n",
    "             'player_1_build_order', 'player_1_salt_encoding', 'player_1_spawn_location',\n",
    "             'player_2_build_order', 'player_2_salt_encoding', 'player_2_spawn_location',\n",
    "             'tags',\n",
    "             'other_games_in_series', 'other_games_in_series_addresses',\n",
    "             'replay_download_address', 'vod_address', 'replay_description',\n",
    "             'data_creation_datetime'], axis = 1)"
   ]
  },
  {
   "cell_type": "code",
   "execution_count": null,
   "id": "e508e850-ca8e-47c6-bd94-65c4314b43ca",
   "metadata": {
    "tags": []
   },
   "outputs": [],
   "source": [
    "df_cleaned.head()"
   ]
  },
  {
   "cell_type": "code",
   "execution_count": null,
   "id": "eaad8ce5-b2a3-4b12-83f2-4146a4a2272a",
   "metadata": {
    "tags": []
   },
   "outputs": [],
   "source": [
    "len(df_cleaned[False == df_cleaned['tournament_name'].isna()])/len(df_cleaned)"
   ]
  },
  {
   "cell_type": "code",
   "execution_count": null,
   "id": "9f2d65f7-abd4-4e5b-ad04-cb82fd70335b",
   "metadata": {
    "tags": []
   },
   "outputs": [],
   "source": [
    "len(df_cleaned[False == df_cleaned['player_1_league'].isna()])/len(df_cleaned)"
   ]
  },
  {
   "cell_type": "code",
   "execution_count": null,
   "id": "1b8b65fb-fe69-46fd-a4a5-c60e12876635",
   "metadata": {
    "tags": []
   },
   "outputs": [],
   "source": [
    "len(df_cleaned[False == df_cleaned['player_2_league'].isna()])/len(df_cleaned)"
   ]
  },
  {
   "cell_type": "code",
   "execution_count": null,
   "id": "f27adc69-843b-4524-9fe5-0541fecbcd0a",
   "metadata": {
    "tags": []
   },
   "outputs": [],
   "source": [
    "def custom_date_parse(x):\n",
    "    \n",
    "    custom_strings = {'noon' : '12:00 pm'};\n",
    "    \n",
    "    if type(x) == float:\n",
    "        return(np.nan);\n",
    "    \n",
    "    else:\n",
    "        try:\n",
    "            for key in custom_strings:\n",
    "                if key in x:\n",
    "                    x = x.replace(key, custom_strings[key]);\n",
    "\n",
    "            return parse(x);\n",
    "        \n",
    "        except:\n",
    "            return(np.nan);"
   ]
  },
  {
   "cell_type": "code",
   "execution_count": null,
   "id": "39538e55-6c74-41cd-8534-d50b3615771c",
   "metadata": {
    "tags": []
   },
   "outputs": [],
   "source": [
    "df_cleaned.loc[:, 'played_on_date_and_time'] = df_cleaned['played_on_date_and_time'].apply(lambda x : custom_date_parse(x))"
   ]
  },
  {
   "cell_type": "code",
   "execution_count": null,
   "id": "30b01f86-c137-4fc0-a63f-9b09f8f024b2",
   "metadata": {
    "tags": []
   },
   "outputs": [],
   "source": [
    "df_cleaned"
   ]
  },
  {
   "cell_type": "code",
   "execution_count": null,
   "id": "c5c5543a-8ab2-4cd8-acbf-e37f8086e8c7",
   "metadata": {
    "tags": []
   },
   "outputs": [],
   "source": [
    "len(df_cleaned[False == df_cleaned['played_on_date_and_time'].isna()])/len(df_cleaned)"
   ]
  },
  {
   "cell_type": "code",
   "execution_count": null,
   "id": "3e9b35cf-45c1-4b3e-89c5-6797a4eccecd",
   "metadata": {
    "tags": []
   },
   "outputs": [],
   "source": [
    "df_cleaned.drop(df_cleaned[df_cleaned['played_on_date_and_time'].isna() == True].index, inplace = True)"
   ]
  },
  {
   "cell_type": "code",
   "execution_count": null,
   "id": "b8de858c-038a-44c6-b207-76973931cb7d",
   "metadata": {
    "tags": []
   },
   "outputs": [],
   "source": [
    "df_cleaned"
   ]
  },
  {
   "cell_type": "code",
   "execution_count": null,
   "id": "44b349e7-448c-4c3b-81e1-719c5f396ce2",
   "metadata": {
    "tags": []
   },
   "outputs": [],
   "source": [
    "def custom_game_duration_format(x):\n",
    "    y = x.strip();\n",
    "    if len(y) == 1:\n",
    "        z = x.replace(' ', '00:00:0');\n",
    "    elif len(y) == 2:\n",
    "        z = x.replace(' ', '00:00:');\n",
    "    elif len(y) == 3:\n",
    "        z = x.replace(' ', '00:00');\n",
    "    elif len(y) == 4:\n",
    "        z = x.replace(' ', '00:0');\n",
    "    elif len(y) == 5:\n",
    "        z = x.replace(' ', '00:');\n",
    "    elif len(y) == 6:\n",
    "        z = x.replace(' ', '00');\n",
    "    elif len(y) == 7:\n",
    "        z = x.replace(' ', '0');\n",
    "    else:\n",
    "        pass;\n",
    "    \n",
    "    time = pd.to_timedelta(z);\n",
    "    time_minutes = time.total_seconds()/60\n",
    "    \n",
    "    return round(10*time_minutes)/10;"
   ]
  },
  {
   "cell_type": "code",
   "execution_count": null,
   "id": "694a7a76-2670-4ba2-a77f-db0dd3513ca0",
   "metadata": {
    "tags": []
   },
   "outputs": [],
   "source": [
    "df_cleaned.loc[:, 'game_length'] = df_cleaned['game_length'].apply(lambda x : custom_game_duration_format(x))"
   ]
  },
  {
   "cell_type": "code",
   "execution_count": null,
   "id": "7a582cfb-cc00-4d77-a7bd-54ad9c9f3a49",
   "metadata": {},
   "outputs": [],
   "source": [
    "df_cleaned = df_cleaned.rename(columns = {'game_length' : 'game_length_in_minutes'})"
   ]
  },
  {
   "cell_type": "code",
   "execution_count": null,
   "id": "85717bcb-01e3-4fff-ab51-eac252fc8c50",
   "metadata": {
    "tags": []
   },
   "outputs": [],
   "source": [
    "df_cleaned"
   ]
  },
  {
   "cell_type": "code",
   "execution_count": null,
   "id": "b8074601-40ae-46f7-b79f-6b922acc7220",
   "metadata": {
    "tags": []
   },
   "outputs": [],
   "source": [
    "df_cleaned['player_2_winner_status'] = df_cleaned['player_2_winner_status'].apply(lambda x : int(x)) "
   ]
  },
  {
   "cell_type": "code",
   "execution_count": null,
   "id": "a5f42108-c79c-46e8-a0a5-900fd7aef1d5",
   "metadata": {},
   "outputs": [],
   "source": [
    "df_cleaned"
   ]
  },
  {
   "cell_type": "code",
   "execution_count": null,
   "id": "38cb8e2b-f807-42b4-904b-ef28e763e64e",
   "metadata": {},
   "outputs": [],
   "source": [
    "df_cleanedi.iloc[0:1000, : ].to_csv('./esports-starcraft2-dashboard-data.csv')"
   ]
  },
  {
   "cell_type": "code",
   "execution_count": 4,
   "id": "53bacb6c-6604-4efb-970f-895dd8a462f3",
   "metadata": {
    "tags": []
   },
   "outputs": [],
   "source": [
    "df_cleaned = pd.read_csv('./esports-starcraft2-dashboard-data.csv');"
   ]
  },
  {
   "cell_type": "code",
   "execution_count": 5,
   "id": "ea7c4325-c77e-4683-8fc5-7ef163cffcab",
   "metadata": {
    "tags": []
   },
   "outputs": [
    {
     "data": {
      "text/plain": [
       "Index(['Unnamed: 0', 'player_1_name', 'player_1_species',\n",
       "       'player_1_build_order_names', 'player_1_winner_status',\n",
       "       'player_1_league', 'player_2_name', 'player_2_species',\n",
       "       'player_2_build_order_names', 'player_2_winner_status',\n",
       "       'player_2_league', 'map', 'played_on_date_and_time',\n",
       "       'game_length_in_minutes', 'tournament_name'],\n",
       "      dtype='object')"
      ]
     },
     "execution_count": 5,
     "metadata": {},
     "output_type": "execute_result"
    }
   ],
   "source": [
    "df_cleaned.columns"
   ]
  },
  {
   "cell_type": "code",
   "execution_count": 13,
   "id": "9e07d243-f60e-4ac9-a77a-eb91997d7e17",
   "metadata": {
    "tags": []
   },
   "outputs": [],
   "source": [
    "df_1 = df_cleaned.loc[:, ['player_1_name', 'player_1_species', 'player_1_build_order_names',\n",
    "                         'player_1_winner_status', 'player_1_league',\n",
    "                         'map', 'played_on_date_and_time', 'game_length_in_minutes', 'tournament_name']];"
   ]
  },
  {
   "cell_type": "code",
   "execution_count": 16,
   "id": "a6ae7f60-7cd7-45cc-a205-a2586165322b",
   "metadata": {
    "tags": []
   },
   "outputs": [],
   "source": [
    "df_1 = df_1.rename(columns = {'player_1_name' : 'player_name',\n",
    "                       'player_1_species' : 'player_species',\n",
    "                       'player_1_build_order' : 'build_order_names',\n",
    "                       'player_1_winner_status' : 'player_winner_status',\n",
    "                       'player_1_league' : 'player_league'});"
   ]
  },
  {
   "cell_type": "code",
   "execution_count": 14,
   "id": "bc108a5a-c68d-4e85-a440-64152c4e81e6",
   "metadata": {
    "tags": []
   },
   "outputs": [],
   "source": [
    "df_2 = df_cleaned.loc[:, ['player_2_name', 'player_2_species', 'player_2_build_order_names',\n",
    "                         'player_2_winner_status', 'player_2_league',\n",
    "                         'map', 'played_on_date_and_time', 'game_length_in_minutes', 'tournament_name']];"
   ]
  },
  {
   "cell_type": "code",
   "execution_count": null,
   "id": "23eba4a2-3d71-44b6-a9df-6d428e83f82f",
   "metadata": {},
   "outputs": [],
   "source": [
    "df_2 = df_2.rename(columns = {'player_2_name' : 'player_name',\n",
    "                       'player_2_species' : 'player_species',\n",
    "                       'player_2_build_order' : 'build_order_names',\n",
    "                       'player_2_winner_status' : 'player_winner_status',\n",
    "                       'player_2_league' : 'player_league'});"
   ]
  }
 ],
 "metadata": {
  "kernelspec": {
   "display_name": "Python 3 (ipykernel)",
   "language": "python",
   "name": "python3"
  },
  "language_info": {
   "codemirror_mode": {
    "name": "ipython",
    "version": 3
   },
   "file_extension": ".py",
   "mimetype": "text/x-python",
   "name": "python",
   "nbconvert_exporter": "python",
   "pygments_lexer": "ipython3",
   "version": "3.11.5"
  }
 },
 "nbformat": 4,
 "nbformat_minor": 5
}
